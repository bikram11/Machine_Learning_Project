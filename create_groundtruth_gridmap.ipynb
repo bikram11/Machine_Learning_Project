{
 "cells": [
  {
   "cell_type": "code",
   "execution_count": 1,
   "metadata": {},
   "outputs": [],
   "source": [
    "import os\n",
    "import cv2\n",
    "import numpy as np\n",
    "from PIL import Image\n",
    "from matplotlib import pyplot as plt\n",
    "import glob"
   ]
  },
  {
   "cell_type": "code",
   "execution_count": 13,
   "metadata": {},
   "outputs": [
    {
     "name": "stdout",
     "output_type": "stream",
     "text": [
      "1737_5.jpg\n"
     ]
    }
   ],
   "source": [
    "gazemap_path = 'raw_data/validation/gazemap_images'\n",
    "entries = os.listdir(gazemap_path)\n",
    "entries.sort()\n",
    "print(entries[5])"
   ]
  },
  {
   "cell_type": "code",
   "execution_count": 3,
   "metadata": {},
   "outputs": [],
   "source": [
    "def form_grid(grid_array, dimensions):\n",
    "    grid = np.zeros(dimensions[0]*dimensions[1], dtype=float)\n",
    "\n",
    "    Y,X = np.nonzero(grid_array)\n",
    "\n",
    "    x_axis = grid_array.shape[1]//dimensions[1]\n",
    "    y_axis = grid_array.shape[0]//dimensions[0]\n",
    "\n",
    "    for x,y in zip(X,Y):\n",
    "        grid_index = y//y_axis * dimensions[1]+ x//x_axis\n",
    "        grid[grid_index]+=1\n",
    "    grid = grid/np.sum(grid)\n",
    "\n",
    "    return grid"
   ]
  },
  {
   "cell_type": "code",
   "execution_count": 4,
   "metadata": {},
   "outputs": [],
   "source": [
    "def normalize(arr):\n",
    "    normalized_array = (arr - np.min(arr))/((np.max(arr)-np.min(arr))*1.0)\n",
    "    return normalized_array"
   ]
  },
  {
   "cell_type": "code",
   "execution_count": 5,
   "metadata": {},
   "outputs": [
    {
     "name": "stderr",
     "output_type": "stream",
     "text": [
      "100%|██████████| 3030/3030 [01:26<00:00, 34.95it/s]\n"
     ]
    }
   ],
   "source": [
    "\n",
    "gridmapLocation= 'grids/nogrid'\n",
    "if not os.path.exists(gridmapLocation):\n",
    "    os.makedirs(gridmapLocation)\n",
    "from tqdm import tqdm\n",
    "if not os.path.exists(os.path.join(gridmapLocation,'/test_grid.txt')):\n",
    "    with open(gridmapLocation+'/test_grid.txt','w') as f:\n",
    "        for each_gazemap in tqdm(entries):\n",
    "            \n",
    "            grid_prefix_video_number =[]\n",
    "        \n",
    "            grid_prefix_video_number.append(each_gazemap[:-4])\n",
    "        \n",
    "            ground_truth = np.array(Image.open(gazemap_path+\"/\"+each_gazemap).convert('L').crop((0,96,1024,672)))\n",
    "            \n",
    "        \n",
    "            normalized_ground_truth = normalize(ground_truth)\n",
    "            # # print(np.count_nonzero(normalized_ground_truth))\n",
    "            # plt.imshow(normalized_ground_truth, interpolation='nearest')\n",
    "            # plt.show()\n",
    "        \n",
    "            # ground_truth_grid = form_grid(normalized_ground_truth, [16,16])\n",
    "            \n",
    "            grid_prefix_video_number.extend(normalized_ground_truth)\n",
    "        \n",
    "            s = ','.join(map(str,grid_prefix_video_number))\n",
    "            f.write(s+'\\n')\n",
    "    "
   ]
  },
  {
   "cell_type": "code",
   "execution_count": 14,
   "metadata": {},
   "outputs": [
    {
     "name": "stderr",
     "output_type": "stream",
     "text": [
      "  0%|          | 0/2000 [00:00<?, ?it/s]/tmp/ipykernel_376026/54053072.py:16: DeprecationWarning: ANTIALIAS is deprecated and will be removed in Pillow 10 (2023-07-01). Use LANCZOS or Resampling.LANCZOS instead.\n",
      "  img = img.resize((16, 16), Image.ANTIALIAS)\n",
      "100%|██████████| 2000/2000 [00:14<00:00, 138.54it/s]\n"
     ]
    }
   ],
   "source": [
    "np.set_printoptions(threshold=np.inf)\n",
    "gridmapLocation= 'grids/nogrid'\n",
    "if not os.path.exists(gridmapLocation):\n",
    "    os.makedirs(gridmapLocation)\n",
    "from tqdm import tqdm\n",
    "if not os.path.exists(os.path.join(gridmapLocation,'/val_grid.txt')):\n",
    "    with open(gridmapLocation+'/val_grid.txt','w') as f:\n",
    "        for each_gazemap in tqdm(entries):\n",
    "            \n",
    "            grid_prefix_video_number =[]\n",
    "        \n",
    "            grid_prefix_video_number.append(each_gazemap[:-4])\n",
    "        \n",
    "            img = (Image.open(gazemap_path+\"/\"+each_gazemap).convert('L').crop((0,96,1024,672)))\n",
    "\n",
    "            img = img.resize((16, 16), Image.ANTIALIAS)\n",
    "            img1 = np.array(img)\n",
    "            # record the original shape\n",
    "            shape = img1.shape\n",
    "\n",
    "            # make a 1-dimensional view of arr\n",
    "            flat_arr = img1.ravel()\n",
    "\n",
    "            # convert it to a matrix\n",
    "            vector = np.matrix(flat_arr)\n",
    "            \n",
    "        \n",
    "            normalized_ground_truth = normalize(vector)\n",
    "            # # print(np.count_nonzero(normalized_ground_truth))\n",
    "            # plt.imshow(normalized_ground_truth, interpolation='nearest')\n",
    "            # plt.show()\n",
    "        \n",
    "            # ground_truth_grid = form_grid(normalized_ground_truth, [16,16])\n",
    "            \n",
    "            grid_prefix_video_number.extend(normalized_ground_truth)\n",
    "        \n",
    "            s = ','.join(map(str,grid_prefix_video_number))\n",
    "            f.write(s+'\\n')\n",
    "    "
   ]
  },
  {
   "cell_type": "code",
   "execution_count": null,
   "metadata": {},
   "outputs": [],
   "source": []
  }
 ],
 "metadata": {
  "interpreter": {
   "hash": "817fcbe152f34cf88b195e59eb92b67cadb5e687374cc5205f5ac6a05b9e6bbe"
  },
  "kernelspec": {
   "display_name": "Python 3.10.9 ('base')",
   "language": "python",
   "name": "python3"
  },
  "language_info": {
   "codemirror_mode": {
    "name": "ipython",
    "version": 3
   },
   "file_extension": ".py",
   "mimetype": "text/x-python",
   "name": "python",
   "nbconvert_exporter": "python",
   "pygments_lexer": "ipython3",
   "version": "3.10.9"
  },
  "orig_nbformat": 4
 },
 "nbformat": 4,
 "nbformat_minor": 2
}
