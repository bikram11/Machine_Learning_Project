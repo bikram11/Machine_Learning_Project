{
 "cells": [
  {
   "cell_type": "code",
   "execution_count": 3,
   "metadata": {},
   "outputs": [
    {
     "name": "stdout",
     "output_type": "stream",
     "text": [
      "Collecting gitpython>=3.1.30\n",
      "  Using cached GitPython-3.1.31-py3-none-any.whl (184 kB)\n",
      "Requirement already satisfied: matplotlib>=3.3 in /home/bikram/anaconda3/lib/python3.10/site-packages (from -r requirements.txt (line 6)) (3.7.0)\n",
      "Requirement already satisfied: numpy>=1.18.5 in /home/bikram/anaconda3/lib/python3.10/site-packages (from -r requirements.txt (line 7)) (1.23.5)\n",
      "Collecting opencv-python>=4.1.1\n",
      "  Using cached opencv_python-4.7.0.72-cp37-abi3-manylinux_2_17_x86_64.manylinux2014_x86_64.whl (61.8 MB)\n",
      "Requirement already satisfied: Pillow>=7.1.2 in /home/bikram/anaconda3/lib/python3.10/site-packages (from -r requirements.txt (line 9)) (9.4.0)\n",
      "Requirement already satisfied: psutil in /home/bikram/anaconda3/lib/python3.10/site-packages (from -r requirements.txt (line 10)) (5.9.0)\n",
      "Requirement already satisfied: PyYAML>=5.3.1 in /home/bikram/anaconda3/lib/python3.10/site-packages (from -r requirements.txt (line 11)) (6.0)\n",
      "Requirement already satisfied: requests>=2.23.0 in /home/bikram/anaconda3/lib/python3.10/site-packages (from -r requirements.txt (line 12)) (2.28.1)\n",
      "Requirement already satisfied: scipy>=1.4.1 in /home/bikram/anaconda3/lib/python3.10/site-packages (from -r requirements.txt (line 13)) (1.10.0)\n",
      "Collecting thop>=0.1.1\n",
      "  Using cached thop-0.1.1.post2209072238-py3-none-any.whl (15 kB)\n",
      "Requirement already satisfied: tqdm>=4.64.0 in /home/bikram/anaconda3/lib/python3.10/site-packages (from -r requirements.txt (line 17)) (4.64.1)\n",
      "Collecting tensorboard>=2.4.1\n",
      "  Downloading tensorboard-2.12.1-py3-none-any.whl (5.6 MB)\n",
      "\u001b[2K     \u001b[90m━━━━━━━━━━━━━━━━━━━━━━━━━━━━━━━━━━━━━━━━\u001b[0m \u001b[32m5.6/5.6 MB\u001b[0m \u001b[31m24.6 MB/s\u001b[0m eta \u001b[36m0:00:00\u001b[0ma \u001b[36m0:00:01\u001b[0m\n",
      "\u001b[?25hRequirement already satisfied: pandas>=1.1.4 in /home/bikram/anaconda3/lib/python3.10/site-packages (from -r requirements.txt (line 26)) (1.5.3)\n",
      "Requirement already satisfied: seaborn>=0.11.0 in /home/bikram/anaconda3/lib/python3.10/site-packages (from -r requirements.txt (line 27)) (0.12.2)\n",
      "Requirement already satisfied: setuptools>=65.5.1 in /home/bikram/anaconda3/lib/python3.10/site-packages (from -r requirements.txt (line 41)) (65.6.3)\n",
      "Collecting gitdb<5,>=4.0.1\n",
      "  Downloading gitdb-4.0.10-py3-none-any.whl (62 kB)\n",
      "\u001b[2K     \u001b[90m━━━━━━━━━━━━━━━━━━━━━━━━━━━━━━━━━━━━━━━━\u001b[0m \u001b[32m62.7/62.7 kB\u001b[0m \u001b[31m31.4 MB/s\u001b[0m eta \u001b[36m0:00:00\u001b[0m\n",
      "\u001b[?25hRequirement already satisfied: cycler>=0.10 in /home/bikram/anaconda3/lib/python3.10/site-packages (from matplotlib>=3.3->-r requirements.txt (line 6)) (0.11.0)\n",
      "Requirement already satisfied: python-dateutil>=2.7 in /home/bikram/anaconda3/lib/python3.10/site-packages (from matplotlib>=3.3->-r requirements.txt (line 6)) (2.8.2)\n",
      "Requirement already satisfied: contourpy>=1.0.1 in /home/bikram/anaconda3/lib/python3.10/site-packages (from matplotlib>=3.3->-r requirements.txt (line 6)) (1.0.5)\n",
      "Requirement already satisfied: pyparsing>=2.3.1 in /home/bikram/anaconda3/lib/python3.10/site-packages (from matplotlib>=3.3->-r requirements.txt (line 6)) (3.0.9)\n",
      "Requirement already satisfied: fonttools>=4.22.0 in /home/bikram/anaconda3/lib/python3.10/site-packages (from matplotlib>=3.3->-r requirements.txt (line 6)) (4.25.0)\n",
      "Requirement already satisfied: packaging>=20.0 in /home/bikram/anaconda3/lib/python3.10/site-packages (from matplotlib>=3.3->-r requirements.txt (line 6)) (22.0)\n",
      "Requirement already satisfied: kiwisolver>=1.0.1 in /home/bikram/anaconda3/lib/python3.10/site-packages (from matplotlib>=3.3->-r requirements.txt (line 6)) (1.4.4)\n",
      "Requirement already satisfied: charset-normalizer<3,>=2 in /home/bikram/anaconda3/lib/python3.10/site-packages (from requests>=2.23.0->-r requirements.txt (line 12)) (2.0.4)\n",
      "Requirement already satisfied: certifi>=2017.4.17 in /home/bikram/anaconda3/lib/python3.10/site-packages (from requests>=2.23.0->-r requirements.txt (line 12)) (2022.12.7)\n",
      "Requirement already satisfied: idna<4,>=2.5 in /home/bikram/anaconda3/lib/python3.10/site-packages (from requests>=2.23.0->-r requirements.txt (line 12)) (3.4)\n",
      "Requirement already satisfied: urllib3<1.27,>=1.21.1 in /home/bikram/anaconda3/lib/python3.10/site-packages (from requests>=2.23.0->-r requirements.txt (line 12)) (1.26.14)\n",
      "Requirement already satisfied: torch in /home/bikram/anaconda3/lib/python3.10/site-packages (from thop>=0.1.1->-r requirements.txt (line 14)) (2.0.0)\n",
      "Collecting protobuf>=3.19.6\n",
      "  Downloading protobuf-4.22.3-cp37-abi3-manylinux2014_x86_64.whl (302 kB)\n",
      "\u001b[2K     \u001b[90m━━━━━━━━━━━━━━━━━━━━━━━━━━━━━━━━━━━━━━\u001b[0m \u001b[32m302.4/302.4 kB\u001b[0m \u001b[31m34.4 MB/s\u001b[0m eta \u001b[36m0:00:00\u001b[0m\n",
      "\u001b[?25hCollecting tensorboard-plugin-wit>=1.6.0\n",
      "  Using cached tensorboard_plugin_wit-1.8.1-py3-none-any.whl (781 kB)\n",
      "Requirement already satisfied: werkzeug>=1.0.1 in /home/bikram/anaconda3/lib/python3.10/site-packages (from tensorboard>=2.4.1->-r requirements.txt (line 21)) (2.2.2)\n",
      "Collecting google-auth<3,>=1.6.3\n",
      "  Downloading google_auth-2.17.3-py2.py3-none-any.whl (178 kB)\n",
      "\u001b[2K     \u001b[90m━━━━━━━━━━━━━━━━━━━━━━━━━━━━━━━━━━━━━━\u001b[0m \u001b[32m178.2/178.2 kB\u001b[0m \u001b[31m35.1 MB/s\u001b[0m eta \u001b[36m0:00:00\u001b[0m\n",
      "\u001b[?25hCollecting tensorboard-data-server<0.8.0,>=0.7.0\n",
      "  Downloading tensorboard_data_server-0.7.0-py3-none-manylinux2014_x86_64.whl (6.6 MB)\n",
      "\u001b[2K     \u001b[90m━━━━━━━━━━━━━━━━━━━━━━━━━━━━━━━━━━━━━━━━\u001b[0m \u001b[32m6.6/6.6 MB\u001b[0m \u001b[31m45.0 MB/s\u001b[0m eta \u001b[36m0:00:00\u001b[0m00:01\u001b[0m00:01\u001b[0m\n",
      "\u001b[?25hRequirement already satisfied: markdown>=2.6.8 in /home/bikram/anaconda3/lib/python3.10/site-packages (from tensorboard>=2.4.1->-r requirements.txt (line 21)) (3.4.1)\n",
      "Collecting google-auth-oauthlib<1.1,>=0.5\n",
      "  Downloading google_auth_oauthlib-1.0.0-py2.py3-none-any.whl (18 kB)\n",
      "Collecting grpcio>=1.48.2\n",
      "  Downloading grpcio-1.53.0-cp310-cp310-manylinux_2_17_x86_64.manylinux2014_x86_64.whl (5.0 MB)\n",
      "\u001b[2K     \u001b[90m━━━━━━━━━━━━━━━━━━━━━━━━━━━━━━━━━━━━━━━━\u001b[0m \u001b[32m5.0/5.0 MB\u001b[0m \u001b[31m52.7 MB/s\u001b[0m eta \u001b[36m0:00:00\u001b[0ma \u001b[36m0:00:01\u001b[0m\n",
      "\u001b[?25hRequirement already satisfied: wheel>=0.26 in /home/bikram/anaconda3/lib/python3.10/site-packages (from tensorboard>=2.4.1->-r requirements.txt (line 21)) (0.38.4)\n",
      "Collecting absl-py>=0.4\n",
      "  Downloading absl_py-1.4.0-py3-none-any.whl (126 kB)\n",
      "\u001b[2K     \u001b[90m━━━━━━━━━━━━━━━━━━━━━━━━━━━━━━━━━━━━━━\u001b[0m \u001b[32m126.5/126.5 kB\u001b[0m \u001b[31m63.5 MB/s\u001b[0m eta \u001b[36m0:00:00\u001b[0m\n",
      "\u001b[?25hRequirement already satisfied: pytz>=2020.1 in /home/bikram/anaconda3/lib/python3.10/site-packages (from pandas>=1.1.4->-r requirements.txt (line 26)) (2022.7)\n",
      "Collecting smmap<6,>=3.0.1\n",
      "  Using cached smmap-5.0.0-py3-none-any.whl (24 kB)\n",
      "Requirement already satisfied: pyasn1-modules>=0.2.1 in /home/bikram/anaconda3/lib/python3.10/site-packages (from google-auth<3,>=1.6.3->tensorboard>=2.4.1->-r requirements.txt (line 21)) (0.2.8)\n",
      "Collecting cachetools<6.0,>=2.0.0\n",
      "  Downloading cachetools-5.3.0-py3-none-any.whl (9.3 kB)\n",
      "Requirement already satisfied: six>=1.9.0 in /home/bikram/anaconda3/lib/python3.10/site-packages (from google-auth<3,>=1.6.3->tensorboard>=2.4.1->-r requirements.txt (line 21)) (1.16.0)\n",
      "Collecting rsa<5,>=3.1.4\n",
      "  Using cached rsa-4.9-py3-none-any.whl (34 kB)\n",
      "Collecting requests-oauthlib>=0.7.0\n",
      "  Using cached requests_oauthlib-1.3.1-py2.py3-none-any.whl (23 kB)\n",
      "Requirement already satisfied: MarkupSafe>=2.1.1 in /home/bikram/anaconda3/lib/python3.10/site-packages (from werkzeug>=1.0.1->tensorboard>=2.4.1->-r requirements.txt (line 21)) (2.1.1)\n",
      "Requirement already satisfied: filelock in /home/bikram/anaconda3/lib/python3.10/site-packages (from torch->thop>=0.1.1->-r requirements.txt (line 14)) (3.9.0)\n",
      "Requirement already satisfied: typing-extensions in /home/bikram/anaconda3/lib/python3.10/site-packages (from torch->thop>=0.1.1->-r requirements.txt (line 14)) (4.4.0)\n",
      "Requirement already satisfied: sympy in /home/bikram/anaconda3/lib/python3.10/site-packages (from torch->thop>=0.1.1->-r requirements.txt (line 14)) (1.11.1)\n",
      "Requirement already satisfied: networkx in /home/bikram/anaconda3/lib/python3.10/site-packages (from torch->thop>=0.1.1->-r requirements.txt (line 14)) (2.8.4)\n",
      "Requirement already satisfied: jinja2 in /home/bikram/anaconda3/lib/python3.10/site-packages (from torch->thop>=0.1.1->-r requirements.txt (line 14)) (3.1.2)\n",
      "Requirement already satisfied: pyasn1<0.5.0,>=0.4.6 in /home/bikram/anaconda3/lib/python3.10/site-packages (from pyasn1-modules>=0.2.1->google-auth<3,>=1.6.3->tensorboard>=2.4.1->-r requirements.txt (line 21)) (0.4.8)\n",
      "Collecting oauthlib>=3.0.0\n",
      "  Using cached oauthlib-3.2.2-py3-none-any.whl (151 kB)\n",
      "Requirement already satisfied: mpmath>=0.19 in /home/bikram/anaconda3/lib/python3.10/site-packages/mpmath-1.2.1-py3.10.egg (from sympy->torch->thop>=0.1.1->-r requirements.txt (line 14)) (1.2.1)\n",
      "Installing collected packages: tensorboard-plugin-wit, tensorboard-data-server, smmap, rsa, protobuf, opencv-python, oauthlib, grpcio, cachetools, absl-py, requests-oauthlib, google-auth, gitdb, thop, google-auth-oauthlib, gitpython, tensorboard\n",
      "Successfully installed absl-py-1.4.0 cachetools-5.3.0 gitdb-4.0.10 gitpython-3.1.31 google-auth-2.17.3 google-auth-oauthlib-1.0.0 grpcio-1.53.0 oauthlib-3.2.2 opencv-python-4.7.0.72 protobuf-4.22.3 requests-oauthlib-1.3.1 rsa-4.9 smmap-5.0.0 tensorboard-2.12.1 tensorboard-data-server-0.7.0 tensorboard-plugin-wit-1.8.1 thop-0.1.1.post2209072238\n"
     ]
    }
   ],
   "source": [
    "!pip3 install -r requirements.txt\n"
   ]
  },
  {
   "cell_type": "code",
   "execution_count": 80,
   "metadata": {},
   "outputs": [
    {
     "name": "stderr",
     "output_type": "stream",
     "text": [
      "Cloning into 'yolov5'...\n"
     ]
    }
   ],
   "source": [
    "!git clone https://github.com/ultralytics/yolov5"
   ]
  },
  {
   "cell_type": "code",
   "execution_count": 73,
   "metadata": {},
   "outputs": [
    {
     "name": "stdout",
     "output_type": "stream",
     "text": [
      "Requirement already satisfied: torchvision in c:\\users\\bikram adhikari\\documents\\machine_learning_project\\machinelearningproject\\lib\\site-packages (0.12.0)\n",
      "Collecting torchvision\n",
      "  Using cached torchvision-0.15.1-cp310-cp310-win_amd64.whl (1.2 MB)\n",
      "Requirement already satisfied: requests in c:\\users\\bikram adhikari\\documents\\machine_learning_project\\machinelearningproject\\lib\\site-packages (from torchvision) (2.28.2)\n",
      "Requirement already satisfied: numpy in c:\\users\\bikram adhikari\\documents\\machine_learning_project\\machinelearningproject\\lib\\site-packages (from torchvision) (1.23.5)\n",
      "Requirement already satisfied: torch==2.0.0 in c:\\users\\bikram adhikari\\documents\\machine_learning_project\\machinelearningproject\\lib\\site-packages (from torchvision) (2.0.0)\n",
      "Requirement already satisfied: pillow!=8.3.*,>=5.3.0 in c:\\users\\bikram adhikari\\documents\\machine_learning_project\\machinelearningproject\\lib\\site-packages (from torchvision) (9.5.0)\n",
      "Requirement already satisfied: typing-extensions in c:\\users\\bikram adhikari\\documents\\machine_learning_project\\machinelearningproject\\lib\\site-packages (from torch==2.0.0->torchvision) (4.5.0)\n",
      "Requirement already satisfied: jinja2 in c:\\users\\bikram adhikari\\documents\\machine_learning_project\\machinelearningproject\\lib\\site-packages (from torch==2.0.0->torchvision) (3.1.2)\n",
      "Requirement already satisfied: networkx in c:\\users\\bikram adhikari\\documents\\machine_learning_project\\machinelearningproject\\lib\\site-packages (from torch==2.0.0->torchvision) (3.1)\n",
      "Requirement already satisfied: sympy in c:\\users\\bikram adhikari\\documents\\machine_learning_project\\machinelearningproject\\lib\\site-packages (from torch==2.0.0->torchvision) (1.11.1)\n",
      "Requirement already satisfied: filelock in c:\\users\\bikram adhikari\\documents\\machine_learning_project\\machinelearningproject\\lib\\site-packages (from torch==2.0.0->torchvision) (3.11.0)\n",
      "Requirement already satisfied: urllib3<1.27,>=1.21.1 in c:\\users\\bikram adhikari\\documents\\machine_learning_project\\machinelearningproject\\lib\\site-packages (from requests->torchvision) (1.26.15)\n",
      "Requirement already satisfied: charset-normalizer<4,>=2 in c:\\users\\bikram adhikari\\documents\\machine_learning_project\\machinelearningproject\\lib\\site-packages (from requests->torchvision) (3.1.0)\n",
      "Requirement already satisfied: idna<4,>=2.5 in c:\\users\\bikram adhikari\\documents\\machine_learning_project\\machinelearningproject\\lib\\site-packages (from requests->torchvision) (3.4)\n",
      "Requirement already satisfied: certifi>=2017.4.17 in c:\\users\\bikram adhikari\\documents\\machine_learning_project\\machinelearningproject\\lib\\site-packages (from requests->torchvision) (2022.12.7)\n",
      "Requirement already satisfied: MarkupSafe>=2.0 in c:\\users\\bikram adhikari\\documents\\machine_learning_project\\machinelearningproject\\lib\\site-packages (from jinja2->torch==2.0.0->torchvision) (2.1.2)\n",
      "Requirement already satisfied: mpmath>=0.19 in c:\\users\\bikram adhikari\\documents\\machine_learning_project\\machinelearningproject\\lib\\site-packages (from sympy->torch==2.0.0->torchvision) (1.3.0)\n",
      "Installing collected packages: torchvision\n",
      "  Attempting uninstall: torchvision\n",
      "    Found existing installation: torchvision 0.12.0\n",
      "    Uninstalling torchvision-0.12.0:\n",
      "      Successfully uninstalled torchvision-0.12.0\n",
      "Successfully installed torchvision-0.15.1\n"
     ]
    },
    {
     "name": "stderr",
     "output_type": "stream",
     "text": [
      "\n",
      "[notice] A new release of pip available: 22.3.1 -> 23.0.1\n",
      "[notice] To update, run: python.exe -m pip install --upgrade pip\n"
     ]
    }
   ],
   "source": [
    "!pip3 install --upgrade torchvision"
   ]
  },
  {
   "cell_type": "code",
   "execution_count": 4,
   "metadata": {},
   "outputs": [
    {
     "name": "stdout",
     "output_type": "stream",
     "text": [
      "Traceback (most recent call last):\n",
      "  File \"/home/bikram/Documents/Machine_Learning_Project/feature_extractor.py\", line 11, in <module>\n",
      "    from yolov5.models.experimental import attempt_load\n",
      "  File \"/home/bikram/Documents/Machine_Learning_Project/yolov5/models/experimental.py\", line 11, in <module>\n",
      "    from utils.downloads import attempt_download\n",
      "ModuleNotFoundError: No module named 'utils'\n"
     ]
    }
   ],
   "source": [
    "!python feature_extractor.py --source 'test\\camera_images' --weight yolov5s.pt --conf 0.25 --save-txt --save-conf --features 'features'"
   ]
  },
  {
   "cell_type": "code",
   "execution_count": 1,
   "metadata": {},
   "outputs": [
    {
     "name": "stdout",
     "output_type": "stream",
     "text": [
      "11.8\n"
     ]
    }
   ],
   "source": [
    "import torch\n",
    "print(torch.version.cuda)"
   ]
  },
  {
   "cell_type": "code",
   "execution_count": 59,
   "metadata": {},
   "outputs": [
    {
     "name": "stderr",
     "output_type": "stream",
     "text": [
      "WARNING: Skipping torch as it is not installed.\n",
      "WARNING: Skipping torchvision as it is not installed.\n"
     ]
    },
    {
     "name": "stdout",
     "output_type": "stream",
     "text": [
      "Looking in links: https://download.pytorch.org/whl/torch_stable.html\n",
      "Collecting torch==1.11.0+cu113\n",
      "  Using cached https://download.pytorch.org/whl/cu113/torch-1.11.0%2Bcu113-cp310-cp310-win_amd64.whl (2186.0 MB)\n",
      "Collecting torchvision==0.12.0+cu113\n",
      "  Using cached https://download.pytorch.org/whl/cu113/torchvision-0.12.0%2Bcu113-cp310-cp310-win_amd64.whl (5.4 MB)\n",
      "Requirement already satisfied: typing-extensions in c:\\users\\bikram adhikari\\documents\\machine_learning_project\\machinelearningproject\\lib\\site-packages (from torch==1.11.0+cu113) (4.5.0)\n",
      "Requirement already satisfied: pillow!=8.3.*,>=5.3.0 in c:\\users\\bikram adhikari\\documents\\machine_learning_project\\machinelearningproject\\lib\\site-packages (from torchvision==0.12.0+cu113) (9.5.0)\n",
      "Requirement already satisfied: numpy in c:\\users\\bikram adhikari\\documents\\machine_learning_project\\machinelearningproject\\lib\\site-packages (from torchvision==0.12.0+cu113) (1.23.5)\n",
      "Requirement already satisfied: requests in c:\\users\\bikram adhikari\\documents\\machine_learning_project\\machinelearningproject\\lib\\site-packages (from torchvision==0.12.0+cu113) (2.28.2)\n",
      "Requirement already satisfied: urllib3<1.27,>=1.21.1 in c:\\users\\bikram adhikari\\documents\\machine_learning_project\\machinelearningproject\\lib\\site-packages (from requests->torchvision==0.12.0+cu113) (1.26.15)\n",
      "Requirement already satisfied: idna<4,>=2.5 in c:\\users\\bikram adhikari\\documents\\machine_learning_project\\machinelearningproject\\lib\\site-packages (from requests->torchvision==0.12.0+cu113) (3.4)\n",
      "Requirement already satisfied: charset-normalizer<4,>=2 in c:\\users\\bikram adhikari\\documents\\machine_learning_project\\machinelearningproject\\lib\\site-packages (from requests->torchvision==0.12.0+cu113) (3.1.0)\n",
      "Requirement already satisfied: certifi>=2017.4.17 in c:\\users\\bikram adhikari\\documents\\machine_learning_project\\machinelearningproject\\lib\\site-packages (from requests->torchvision==0.12.0+cu113) (2022.12.7)\n",
      "Installing collected packages: torch, torchvision\n",
      "Successfully installed torch-1.11.0+cu113 torchvision-0.12.0+cu113\n"
     ]
    }
   ],
   "source": [
    "!pip3 uninstall torch -y\n",
    "!pip3 uninstall torchvision -y\n",
    "!pip3 install torch==1.11.0+cu113 torchvision==0.12.0+cu113  -f https://download.pytorch.org/whl/torch_stable.html\n"
   ]
  },
  {
   "cell_type": "code",
   "execution_count": 62,
   "metadata": {},
   "outputs": [
    {
     "name": "stderr",
     "output_type": "stream",
     "text": [
      "'conda' is not recognized as an internal or external command,\n",
      "operable program or batch file.\n"
     ]
    }
   ],
   "source": [
    "!conda install pytorch torchvision torchaudio cudatoolkit=11.0 -c pytorch\n",
    "\n"
   ]
  },
  {
   "cell_type": "code",
   "execution_count": 6,
   "metadata": {},
   "outputs": [
    {
     "name": "stdout",
     "output_type": "stream",
     "text": [
      "Found existing installation: opencv-python 4.7.0.72\n",
      "Uninstalling opencv-python-4.7.0.72:\n",
      "  Successfully uninstalled opencv-python-4.7.0.72\n"
     ]
    }
   ],
   "source": [
    "!pip uninstall opencv-python -y"
   ]
  },
  {
   "cell_type": "code",
   "execution_count": 7,
   "metadata": {},
   "outputs": [
    {
     "name": "stdout",
     "output_type": "stream",
     "text": [
      "Collecting opencv-python-headless\n",
      "  Downloading opencv_python_headless-4.7.0.72-cp37-abi3-manylinux_2_17_x86_64.manylinux2014_x86_64.whl (49.2 MB)\n",
      "\u001b[2K     \u001b[90m━━━━━━━━━━━━━━━━━━━━━━━━━━━━━━━━━━━━━━━━\u001b[0m \u001b[32m49.2/49.2 MB\u001b[0m \u001b[31m62.6 MB/s\u001b[0m eta \u001b[36m0:00:00\u001b[0m00:01\u001b[0m00:01\u001b[0m\n",
      "\u001b[?25hRequirement already satisfied: numpy>=1.19.3 in /home/bikram/anaconda3/lib/python3.10/site-packages (from opencv-python-headless) (1.23.5)\n",
      "Installing collected packages: opencv-python-headless\n",
      "Successfully installed opencv-python-headless-4.7.0.72\n"
     ]
    }
   ],
   "source": [
    "!pip install opencv-python-headless"
   ]
  },
  {
   "cell_type": "code",
   "execution_count": null,
   "metadata": {},
   "outputs": [],
   "source": []
  }
 ],
 "metadata": {
  "interpreter": {
   "hash": "817fcbe152f34cf88b195e59eb92b67cadb5e687374cc5205f5ac6a05b9e6bbe"
  },
  "kernelspec": {
   "display_name": "Python 3.10.9 ('base')",
   "language": "python",
   "name": "python3"
  },
  "language_info": {
   "codemirror_mode": {
    "name": "ipython",
    "version": 3
   },
   "file_extension": ".py",
   "mimetype": "text/x-python",
   "name": "python",
   "nbconvert_exporter": "python",
   "pygments_lexer": "ipython3",
   "version": "3.10.9"
  },
  "orig_nbformat": 4,
  "vscode": {
   "interpreter": {
    "hash": "833909413817d786a11e3b0ba15b83ecb2993ac5c3eeb0d6df8d00f591042ca4"
   }
  }
 },
 "nbformat": 4,
 "nbformat_minor": 2
}
