{
 "cells": [
  {
   "cell_type": "code",
   "execution_count": 68,
   "metadata": {},
   "outputs": [
    {
     "name": "stdout",
     "output_type": "stream",
     "text": [
      "Requirement already satisfied: matplotlib>=3.2.2 in c:\\users\\bikram adhikari\\documents\\machine_learning_project\\machinelearningproject\\lib\\site-packages (from -r requirements.txt (line 1)) (3.7.1)\n",
      "Requirement already satisfied: numpy<1.24.0,>=1.18.5 in c:\\users\\bikram adhikari\\documents\\machine_learning_project\\machinelearningproject\\lib\\site-packages (from -r requirements.txt (line 2)) (1.23.5)\n",
      "Requirement already satisfied: opencv-python>=4.1.1 in c:\\users\\bikram adhikari\\documents\\machine_learning_project\\machinelearningproject\\lib\\site-packages (from -r requirements.txt (line 3)) (4.7.0.72)\n",
      "Requirement already satisfied: Pillow>=7.1.2 in c:\\users\\bikram adhikari\\documents\\machine_learning_project\\machinelearningproject\\lib\\site-packages (from -r requirements.txt (line 4)) (9.5.0)\n",
      "Requirement already satisfied: PyYAML>=5.3.1 in c:\\users\\bikram adhikari\\documents\\machine_learning_project\\machinelearningproject\\lib\\site-packages (from -r requirements.txt (line 5)) (6.0)\n",
      "Requirement already satisfied: requests>=2.23.0 in c:\\users\\bikram adhikari\\documents\\machine_learning_project\\machinelearningproject\\lib\\site-packages (from -r requirements.txt (line 6)) (2.28.2)\n",
      "Requirement already satisfied: scipy>=1.4.1 in c:\\users\\bikram adhikari\\documents\\machine_learning_project\\machinelearningproject\\lib\\site-packages (from -r requirements.txt (line 7)) (1.10.1)\n",
      "Requirement already satisfied: torch in c:\\users\\bikram adhikari\\documents\\machine_learning_project\\machinelearningproject\\lib\\site-packages (from -r requirements.txt (line 8)) (1.11.0)\n",
      "Requirement already satisfied: torchvision in c:\\users\\bikram adhikari\\documents\\machine_learning_project\\machinelearningproject\\lib\\site-packages (from -r requirements.txt (line 9)) (0.12.0)\n",
      "Requirement already satisfied: tqdm>=4.41.0 in c:\\users\\bikram adhikari\\documents\\machine_learning_project\\machinelearningproject\\lib\\site-packages (from -r requirements.txt (line 10)) (4.65.0)\n",
      "Requirement already satisfied: protobuf<4.21.3 in c:\\users\\bikram adhikari\\documents\\machine_learning_project\\machinelearningproject\\lib\\site-packages (from -r requirements.txt (line 11)) (4.21.2)\n",
      "Requirement already satisfied: tensorboard>=2.4.1 in c:\\users\\bikram adhikari\\documents\\machine_learning_project\\machinelearningproject\\lib\\site-packages (from -r requirements.txt (line 14)) (2.12.1)\n",
      "Requirement already satisfied: pandas>=1.1.4 in c:\\users\\bikram adhikari\\documents\\machine_learning_project\\machinelearningproject\\lib\\site-packages (from -r requirements.txt (line 18)) (2.0.0)\n",
      "Requirement already satisfied: seaborn>=0.11.0 in c:\\users\\bikram adhikari\\documents\\machine_learning_project\\machinelearningproject\\lib\\site-packages (from -r requirements.txt (line 19)) (0.12.2)\n",
      "Requirement already satisfied: ipython in c:\\users\\bikram adhikari\\documents\\machine_learning_project\\machinelearningproject\\lib\\site-packages (from -r requirements.txt (line 31)) (8.12.0)\n",
      "Requirement already satisfied: psutil in c:\\users\\bikram adhikari\\documents\\machine_learning_project\\machinelearningproject\\lib\\site-packages (from -r requirements.txt (line 32)) (5.9.4)\n",
      "Requirement already satisfied: thop in c:\\users\\bikram adhikari\\documents\\machine_learning_project\\machinelearningproject\\lib\\site-packages (from -r requirements.txt (line 33)) (0.1.1.post2209072238)\n",
      "Requirement already satisfied: kiwisolver>=1.0.1 in c:\\users\\bikram adhikari\\documents\\machine_learning_project\\machinelearningproject\\lib\\site-packages (from matplotlib>=3.2.2->-r requirements.txt (line 1)) (1.4.4)\n",
      "Requirement already satisfied: contourpy>=1.0.1 in c:\\users\\bikram adhikari\\documents\\machine_learning_project\\machinelearningproject\\lib\\site-packages (from matplotlib>=3.2.2->-r requirements.txt (line 1)) (1.0.7)\n",
      "Requirement already satisfied: cycler>=0.10 in c:\\users\\bikram adhikari\\documents\\machine_learning_project\\machinelearningproject\\lib\\site-packages (from matplotlib>=3.2.2->-r requirements.txt (line 1)) (0.11.0)\n",
      "Requirement already satisfied: pyparsing>=2.3.1 in c:\\users\\bikram adhikari\\documents\\machine_learning_project\\machinelearningproject\\lib\\site-packages (from matplotlib>=3.2.2->-r requirements.txt (line 1)) (3.0.9)\n",
      "Requirement already satisfied: python-dateutil>=2.7 in c:\\users\\bikram adhikari\\documents\\machine_learning_project\\machinelearningproject\\lib\\site-packages (from matplotlib>=3.2.2->-r requirements.txt (line 1)) (2.8.2)\n",
      "Requirement already satisfied: packaging>=20.0 in c:\\users\\bikram adhikari\\documents\\machine_learning_project\\machinelearningproject\\lib\\site-packages (from matplotlib>=3.2.2->-r requirements.txt (line 1)) (23.1)\n",
      "Requirement already satisfied: fonttools>=4.22.0 in c:\\users\\bikram adhikari\\documents\\machine_learning_project\\machinelearningproject\\lib\\site-packages (from matplotlib>=3.2.2->-r requirements.txt (line 1)) (4.39.3)\n",
      "Requirement already satisfied: idna<4,>=2.5 in c:\\users\\bikram adhikari\\documents\\machine_learning_project\\machinelearningproject\\lib\\site-packages (from requests>=2.23.0->-r requirements.txt (line 6)) (3.4)\n",
      "Requirement already satisfied: certifi>=2017.4.17 in c:\\users\\bikram adhikari\\documents\\machine_learning_project\\machinelearningproject\\lib\\site-packages (from requests>=2.23.0->-r requirements.txt (line 6)) (2022.12.7)\n",
      "Requirement already satisfied: charset-normalizer<4,>=2 in c:\\users\\bikram adhikari\\documents\\machine_learning_project\\machinelearningproject\\lib\\site-packages (from requests>=2.23.0->-r requirements.txt (line 6)) (3.1.0)\n",
      "Requirement already satisfied: urllib3<1.27,>=1.21.1 in c:\\users\\bikram adhikari\\documents\\machine_learning_project\\machinelearningproject\\lib\\site-packages (from requests>=2.23.0->-r requirements.txt (line 6)) (1.26.15)\n",
      "Requirement already satisfied: typing-extensions in c:\\users\\bikram adhikari\\documents\\machine_learning_project\\machinelearningproject\\lib\\site-packages (from torch->-r requirements.txt (line 8)) (4.5.0)\n",
      "Requirement already satisfied: colorama in c:\\users\\bikram adhikari\\documents\\machine_learning_project\\machinelearningproject\\lib\\site-packages (from tqdm>=4.41.0->-r requirements.txt (line 10)) (0.4.6)\n",
      "Requirement already satisfied: google-auth-oauthlib<1.1,>=0.5 in c:\\users\\bikram adhikari\\documents\\machine_learning_project\\machinelearningproject\\lib\\site-packages (from tensorboard>=2.4.1->-r requirements.txt (line 14)) (1.0.0)\n",
      "Requirement already satisfied: wheel>=0.26 in c:\\users\\bikram adhikari\\documents\\machine_learning_project\\machinelearningproject\\lib\\site-packages (from tensorboard>=2.4.1->-r requirements.txt (line 14)) (0.40.0)\n",
      "Requirement already satisfied: setuptools>=41.0.0 in c:\\users\\bikram adhikari\\documents\\machine_learning_project\\machinelearningproject\\lib\\site-packages (from tensorboard>=2.4.1->-r requirements.txt (line 14)) (65.5.0)\n",
      "Requirement already satisfied: tensorboard-plugin-wit>=1.6.0 in c:\\users\\bikram adhikari\\documents\\machine_learning_project\\machinelearningproject\\lib\\site-packages (from tensorboard>=2.4.1->-r requirements.txt (line 14)) (1.8.1)\n",
      "Requirement already satisfied: werkzeug>=1.0.1 in c:\\users\\bikram adhikari\\documents\\machine_learning_project\\machinelearningproject\\lib\\site-packages (from tensorboard>=2.4.1->-r requirements.txt (line 14)) (2.2.3)\n",
      "Requirement already satisfied: markdown>=2.6.8 in c:\\users\\bikram adhikari\\documents\\machine_learning_project\\machinelearningproject\\lib\\site-packages (from tensorboard>=2.4.1->-r requirements.txt (line 14)) (3.4.3)\n",
      "Requirement already satisfied: grpcio>=1.48.2 in c:\\users\\bikram adhikari\\documents\\machine_learning_project\\machinelearningproject\\lib\\site-packages (from tensorboard>=2.4.1->-r requirements.txt (line 14)) (1.53.0)\n",
      "Requirement already satisfied: absl-py>=0.4 in c:\\users\\bikram adhikari\\documents\\machine_learning_project\\machinelearningproject\\lib\\site-packages (from tensorboard>=2.4.1->-r requirements.txt (line 14)) (1.4.0)\n",
      "Requirement already satisfied: google-auth<3,>=1.6.3 in c:\\users\\bikram adhikari\\documents\\machine_learning_project\\machinelearningproject\\lib\\site-packages (from tensorboard>=2.4.1->-r requirements.txt (line 14)) (2.17.3)\n",
      "Requirement already satisfied: tensorboard-data-server<0.8.0,>=0.7.0 in c:\\users\\bikram adhikari\\documents\\machine_learning_project\\machinelearningproject\\lib\\site-packages (from tensorboard>=2.4.1->-r requirements.txt (line 14)) (0.7.0)\n",
      "Requirement already satisfied: pytz>=2020.1 in c:\\users\\bikram adhikari\\documents\\machine_learning_project\\machinelearningproject\\lib\\site-packages (from pandas>=1.1.4->-r requirements.txt (line 18)) (2023.3)\n",
      "Requirement already satisfied: tzdata>=2022.1 in c:\\users\\bikram adhikari\\documents\\machine_learning_project\\machinelearningproject\\lib\\site-packages (from pandas>=1.1.4->-r requirements.txt (line 18)) (2023.3)\n",
      "Requirement already satisfied: prompt-toolkit!=3.0.37,<3.1.0,>=3.0.30 in c:\\users\\bikram adhikari\\documents\\machine_learning_project\\machinelearningproject\\lib\\site-packages (from ipython->-r requirements.txt (line 31)) (3.0.38)\n",
      "Requirement already satisfied: pygments>=2.4.0 in c:\\users\\bikram adhikari\\documents\\machine_learning_project\\machinelearningproject\\lib\\site-packages (from ipython->-r requirements.txt (line 31)) (2.15.0)\n",
      "Requirement already satisfied: matplotlib-inline in c:\\users\\bikram adhikari\\documents\\machine_learning_project\\machinelearningproject\\lib\\site-packages (from ipython->-r requirements.txt (line 31)) (0.1.6)\n",
      "Requirement already satisfied: pickleshare in c:\\users\\bikram adhikari\\documents\\machine_learning_project\\machinelearningproject\\lib\\site-packages (from ipython->-r requirements.txt (line 31)) (0.7.5)\n",
      "Requirement already satisfied: traitlets>=5 in c:\\users\\bikram adhikari\\documents\\machine_learning_project\\machinelearningproject\\lib\\site-packages (from ipython->-r requirements.txt (line 31)) (5.9.0)\n",
      "Requirement already satisfied: backcall in c:\\users\\bikram adhikari\\documents\\machine_learning_project\\machinelearningproject\\lib\\site-packages (from ipython->-r requirements.txt (line 31)) (0.2.0)\n",
      "Requirement already satisfied: decorator in c:\\users\\bikram adhikari\\documents\\machine_learning_project\\machinelearningproject\\lib\\site-packages (from ipython->-r requirements.txt (line 31)) (5.1.1)\n",
      "Requirement already satisfied: stack-data in c:\\users\\bikram adhikari\\documents\\machine_learning_project\\machinelearningproject\\lib\\site-packages (from ipython->-r requirements.txt (line 31)) (0.6.2)\n",
      "Requirement already satisfied: jedi>=0.16 in c:\\users\\bikram adhikari\\documents\\machine_learning_project\\machinelearningproject\\lib\\site-packages (from ipython->-r requirements.txt (line 31)) (0.18.2)\n",
      "Requirement already satisfied: cachetools<6.0,>=2.0.0 in c:\\users\\bikram adhikari\\documents\\machine_learning_project\\machinelearningproject\\lib\\site-packages (from google-auth<3,>=1.6.3->tensorboard>=2.4.1->-r requirements.txt (line 14)) (5.3.0)\n",
      "Requirement already satisfied: rsa<5,>=3.1.4 in c:\\users\\bikram adhikari\\documents\\machine_learning_project\\machinelearningproject\\lib\\site-packages (from google-auth<3,>=1.6.3->tensorboard>=2.4.1->-r requirements.txt (line 14)) (4.9)\n",
      "Requirement already satisfied: pyasn1-modules>=0.2.1 in c:\\users\\bikram adhikari\\documents\\machine_learning_project\\machinelearningproject\\lib\\site-packages (from google-auth<3,>=1.6.3->tensorboard>=2.4.1->-r requirements.txt (line 14)) (0.2.8)\n",
      "Requirement already satisfied: six>=1.9.0 in c:\\users\\bikram adhikari\\documents\\machine_learning_project\\machinelearningproject\\lib\\site-packages (from google-auth<3,>=1.6.3->tensorboard>=2.4.1->-r requirements.txt (line 14)) (1.16.0)\n",
      "Requirement already satisfied: requests-oauthlib>=0.7.0 in c:\\users\\bikram adhikari\\documents\\machine_learning_project\\machinelearningproject\\lib\\site-packages (from google-auth-oauthlib<1.1,>=0.5->tensorboard>=2.4.1->-r requirements.txt (line 14)) (1.3.1)\n",
      "Requirement already satisfied: parso<0.9.0,>=0.8.0 in c:\\users\\bikram adhikari\\documents\\machine_learning_project\\machinelearningproject\\lib\\site-packages (from jedi>=0.16->ipython->-r requirements.txt (line 31)) (0.8.3)\n",
      "Requirement already satisfied: wcwidth in c:\\users\\bikram adhikari\\documents\\machine_learning_project\\machinelearningproject\\lib\\site-packages (from prompt-toolkit!=3.0.37,<3.1.0,>=3.0.30->ipython->-r requirements.txt (line 31)) (0.2.6)\n",
      "Requirement already satisfied: MarkupSafe>=2.1.1 in c:\\users\\bikram adhikari\\documents\\machine_learning_project\\machinelearningproject\\lib\\site-packages (from werkzeug>=1.0.1->tensorboard>=2.4.1->-r requirements.txt (line 14)) (2.1.2)\n",
      "Requirement already satisfied: pure-eval in c:\\users\\bikram adhikari\\documents\\machine_learning_project\\machinelearningproject\\lib\\site-packages (from stack-data->ipython->-r requirements.txt (line 31)) (0.2.2)\n",
      "Requirement already satisfied: asttokens>=2.1.0 in c:\\users\\bikram adhikari\\documents\\machine_learning_project\\machinelearningproject\\lib\\site-packages (from stack-data->ipython->-r requirements.txt (line 31)) (2.2.1)\n",
      "Requirement already satisfied: executing>=1.2.0 in c:\\users\\bikram adhikari\\documents\\machine_learning_project\\machinelearningproject\\lib\\site-packages (from stack-data->ipython->-r requirements.txt (line 31)) (1.2.0)\n",
      "Requirement already satisfied: pyasn1<0.5.0,>=0.4.6 in c:\\users\\bikram adhikari\\documents\\machine_learning_project\\machinelearningproject\\lib\\site-packages (from pyasn1-modules>=0.2.1->google-auth<3,>=1.6.3->tensorboard>=2.4.1->-r requirements.txt (line 14)) (0.4.8)\n",
      "Requirement already satisfied: oauthlib>=3.0.0 in c:\\users\\bikram adhikari\\documents\\machine_learning_project\\machinelearningproject\\lib\\site-packages (from requests-oauthlib>=0.7.0->google-auth-oauthlib<1.1,>=0.5->tensorboard>=2.4.1->-r requirements.txt (line 14)) (3.2.2)\n"
     ]
    },
    {
     "name": "stderr",
     "output_type": "stream",
     "text": [
      "\n",
      "[notice] A new release of pip available: 22.3.1 -> 23.0.1\n",
      "[notice] To update, run: python.exe -m pip install --upgrade pip\n"
     ]
    },
    {
     "name": "stdout",
     "output_type": "stream",
     "text": [
      "Requirement already satisfied: numba in c:\\users\\bikram adhikari\\documents\\machine_learning_project\\machinelearningproject\\lib\\site-packages (0.56.4)\n",
      "Requirement already satisfied: numpy<1.24,>=1.18 in c:\\users\\bikram adhikari\\documents\\machine_learning_project\\machinelearningproject\\lib\\site-packages (from numba) (1.23.5)\n",
      "Requirement already satisfied: llvmlite<0.40,>=0.39.0dev0 in c:\\users\\bikram adhikari\\documents\\machine_learning_project\\machinelearningproject\\lib\\site-packages (from numba) (0.39.1)\n",
      "Requirement already satisfied: setuptools in c:\\users\\bikram adhikari\\documents\\machine_learning_project\\machinelearningproject\\lib\\site-packages (from numba) (65.5.0)\n"
     ]
    },
    {
     "name": "stderr",
     "output_type": "stream",
     "text": [
      "\n",
      "[notice] A new release of pip available: 22.3.1 -> 23.0.1\n",
      "[notice] To update, run: python.exe -m pip install --upgrade pip\n"
     ]
    }
   ],
   "source": [
    "!pip3 install -r requirements.txt\n",
    "!pip3 install numba"
   ]
  },
  {
   "cell_type": "code",
   "execution_count": 80,
   "metadata": {},
   "outputs": [
    {
     "name": "stderr",
     "output_type": "stream",
     "text": [
      "Cloning into 'yolov5'...\n"
     ]
    }
   ],
   "source": [
    "!git clone https://github.com/ultralytics/yolov5"
   ]
  },
  {
   "cell_type": "code",
   "execution_count": 73,
   "metadata": {},
   "outputs": [
    {
     "name": "stdout",
     "output_type": "stream",
     "text": [
      "Requirement already satisfied: torchvision in c:\\users\\bikram adhikari\\documents\\machine_learning_project\\machinelearningproject\\lib\\site-packages (0.12.0)\n",
      "Collecting torchvision\n",
      "  Using cached torchvision-0.15.1-cp310-cp310-win_amd64.whl (1.2 MB)\n",
      "Requirement already satisfied: requests in c:\\users\\bikram adhikari\\documents\\machine_learning_project\\machinelearningproject\\lib\\site-packages (from torchvision) (2.28.2)\n",
      "Requirement already satisfied: numpy in c:\\users\\bikram adhikari\\documents\\machine_learning_project\\machinelearningproject\\lib\\site-packages (from torchvision) (1.23.5)\n",
      "Requirement already satisfied: torch==2.0.0 in c:\\users\\bikram adhikari\\documents\\machine_learning_project\\machinelearningproject\\lib\\site-packages (from torchvision) (2.0.0)\n",
      "Requirement already satisfied: pillow!=8.3.*,>=5.3.0 in c:\\users\\bikram adhikari\\documents\\machine_learning_project\\machinelearningproject\\lib\\site-packages (from torchvision) (9.5.0)\n",
      "Requirement already satisfied: typing-extensions in c:\\users\\bikram adhikari\\documents\\machine_learning_project\\machinelearningproject\\lib\\site-packages (from torch==2.0.0->torchvision) (4.5.0)\n",
      "Requirement already satisfied: jinja2 in c:\\users\\bikram adhikari\\documents\\machine_learning_project\\machinelearningproject\\lib\\site-packages (from torch==2.0.0->torchvision) (3.1.2)\n",
      "Requirement already satisfied: networkx in c:\\users\\bikram adhikari\\documents\\machine_learning_project\\machinelearningproject\\lib\\site-packages (from torch==2.0.0->torchvision) (3.1)\n",
      "Requirement already satisfied: sympy in c:\\users\\bikram adhikari\\documents\\machine_learning_project\\machinelearningproject\\lib\\site-packages (from torch==2.0.0->torchvision) (1.11.1)\n",
      "Requirement already satisfied: filelock in c:\\users\\bikram adhikari\\documents\\machine_learning_project\\machinelearningproject\\lib\\site-packages (from torch==2.0.0->torchvision) (3.11.0)\n",
      "Requirement already satisfied: urllib3<1.27,>=1.21.1 in c:\\users\\bikram adhikari\\documents\\machine_learning_project\\machinelearningproject\\lib\\site-packages (from requests->torchvision) (1.26.15)\n",
      "Requirement already satisfied: charset-normalizer<4,>=2 in c:\\users\\bikram adhikari\\documents\\machine_learning_project\\machinelearningproject\\lib\\site-packages (from requests->torchvision) (3.1.0)\n",
      "Requirement already satisfied: idna<4,>=2.5 in c:\\users\\bikram adhikari\\documents\\machine_learning_project\\machinelearningproject\\lib\\site-packages (from requests->torchvision) (3.4)\n",
      "Requirement already satisfied: certifi>=2017.4.17 in c:\\users\\bikram adhikari\\documents\\machine_learning_project\\machinelearningproject\\lib\\site-packages (from requests->torchvision) (2022.12.7)\n",
      "Requirement already satisfied: MarkupSafe>=2.0 in c:\\users\\bikram adhikari\\documents\\machine_learning_project\\machinelearningproject\\lib\\site-packages (from jinja2->torch==2.0.0->torchvision) (2.1.2)\n",
      "Requirement already satisfied: mpmath>=0.19 in c:\\users\\bikram adhikari\\documents\\machine_learning_project\\machinelearningproject\\lib\\site-packages (from sympy->torch==2.0.0->torchvision) (1.3.0)\n",
      "Installing collected packages: torchvision\n",
      "  Attempting uninstall: torchvision\n",
      "    Found existing installation: torchvision 0.12.0\n",
      "    Uninstalling torchvision-0.12.0:\n",
      "      Successfully uninstalled torchvision-0.12.0\n",
      "Successfully installed torchvision-0.15.1\n"
     ]
    },
    {
     "name": "stderr",
     "output_type": "stream",
     "text": [
      "\n",
      "[notice] A new release of pip available: 22.3.1 -> 23.0.1\n",
      "[notice] To update, run: python.exe -m pip install --upgrade pip\n"
     ]
    }
   ],
   "source": [
    "!pip3 install --upgrade torchvision"
   ]
  },
  {
   "cell_type": "code",
   "execution_count": 87,
   "metadata": {},
   "outputs": [
    {
     "name": "stdout",
     "output_type": "stream",
     "text": [
      "Namespace(weights=['yolov5s.pt'], source=\"'test\\\\camera_images'\", img_size=640, conf_thres=0.25, iou_thres=0.45, max_det=1000, device='', view_img=False, save_txt=True, save_conf=True, save_crop=False, nosave=False, classes=None, agnostic_nms=False, augment=False, update=False, project='runs/detect', name='exp', exist_ok=False, line_thickness=3, hide_labels=False, hide_conf=False, features=\"'features'\")"
     ]
    },
    {
     "name": "stderr",
     "output_type": "stream",
     "text": [
      "fatal: cannot change to 'C:\\Users\\bikram': No such file or directory\n",
      "YOLOv5  2023-4-13 Python-3.10.10 torch-2.0.0+cpu CPU\n",
      "\n",
      "Traceback (most recent call last):\n",
      "  File \"c:\\Users\\bikram adhikari\\Documents\\Machine_Learning_Project\\feature_extractor.py\", line 222, in <module>\n",
      "    detect(opt=opt)\n",
      "  File \"c:\\Users\\bikram adhikari\\Documents\\Machine_Learning_Project\\feature_extractor.py\", line 56, in detect\n",
      "    model = attempt_load(weights, map_location=device)  # load FP32 model\n",
      "TypeError: attempt_load() got an unexpected keyword argument 'map_location'\n"
     ]
    },
    {
     "name": "stdout",
     "output_type": "stream",
     "text": [
      "\n"
     ]
    }
   ],
   "source": [
    "!python feature_extractor.py --source 'test\\camera_images' --weight yolov5s.pt --conf 0.25 --save-txt --save-conf --features 'features'"
   ]
  },
  {
   "cell_type": "code",
   "execution_count": 70,
   "metadata": {},
   "outputs": [
    {
     "name": "stdout",
     "output_type": "stream",
     "text": [
      "None\n"
     ]
    }
   ],
   "source": [
    "import torch\n",
    "print(torch.version.cuda)"
   ]
  },
  {
   "cell_type": "code",
   "execution_count": 59,
   "metadata": {},
   "outputs": [
    {
     "name": "stderr",
     "output_type": "stream",
     "text": [
      "WARNING: Skipping torch as it is not installed.\n",
      "WARNING: Skipping torchvision as it is not installed.\n"
     ]
    },
    {
     "name": "stdout",
     "output_type": "stream",
     "text": [
      "Looking in links: https://download.pytorch.org/whl/torch_stable.html\n",
      "Collecting torch==1.11.0+cu113\n",
      "  Using cached https://download.pytorch.org/whl/cu113/torch-1.11.0%2Bcu113-cp310-cp310-win_amd64.whl (2186.0 MB)\n",
      "Collecting torchvision==0.12.0+cu113\n",
      "  Using cached https://download.pytorch.org/whl/cu113/torchvision-0.12.0%2Bcu113-cp310-cp310-win_amd64.whl (5.4 MB)\n",
      "Requirement already satisfied: typing-extensions in c:\\users\\bikram adhikari\\documents\\machine_learning_project\\machinelearningproject\\lib\\site-packages (from torch==1.11.0+cu113) (4.5.0)\n",
      "Requirement already satisfied: pillow!=8.3.*,>=5.3.0 in c:\\users\\bikram adhikari\\documents\\machine_learning_project\\machinelearningproject\\lib\\site-packages (from torchvision==0.12.0+cu113) (9.5.0)\n",
      "Requirement already satisfied: numpy in c:\\users\\bikram adhikari\\documents\\machine_learning_project\\machinelearningproject\\lib\\site-packages (from torchvision==0.12.0+cu113) (1.23.5)\n",
      "Requirement already satisfied: requests in c:\\users\\bikram adhikari\\documents\\machine_learning_project\\machinelearningproject\\lib\\site-packages (from torchvision==0.12.0+cu113) (2.28.2)\n",
      "Requirement already satisfied: urllib3<1.27,>=1.21.1 in c:\\users\\bikram adhikari\\documents\\machine_learning_project\\machinelearningproject\\lib\\site-packages (from requests->torchvision==0.12.0+cu113) (1.26.15)\n",
      "Requirement already satisfied: idna<4,>=2.5 in c:\\users\\bikram adhikari\\documents\\machine_learning_project\\machinelearningproject\\lib\\site-packages (from requests->torchvision==0.12.0+cu113) (3.4)\n",
      "Requirement already satisfied: charset-normalizer<4,>=2 in c:\\users\\bikram adhikari\\documents\\machine_learning_project\\machinelearningproject\\lib\\site-packages (from requests->torchvision==0.12.0+cu113) (3.1.0)\n",
      "Requirement already satisfied: certifi>=2017.4.17 in c:\\users\\bikram adhikari\\documents\\machine_learning_project\\machinelearningproject\\lib\\site-packages (from requests->torchvision==0.12.0+cu113) (2022.12.7)\n",
      "Installing collected packages: torch, torchvision\n",
      "Successfully installed torch-1.11.0+cu113 torchvision-0.12.0+cu113\n"
     ]
    }
   ],
   "source": [
    "!pip3 uninstall torch -y\n",
    "!pip3 uninstall torchvision -y\n",
    "!pip3 install torch==1.11.0+cu113 torchvision==0.12.0+cu113  -f https://download.pytorch.org/whl/torch_stable.html\n"
   ]
  },
  {
   "cell_type": "code",
   "execution_count": 62,
   "metadata": {},
   "outputs": [
    {
     "name": "stderr",
     "output_type": "stream",
     "text": [
      "'conda' is not recognized as an internal or external command,\n",
      "operable program or batch file.\n"
     ]
    }
   ],
   "source": [
    "!conda install pytorch torchvision torchaudio cudatoolkit=11.0 -c pytorch\n",
    "\n"
   ]
  },
  {
   "cell_type": "code",
   "execution_count": null,
   "metadata": {},
   "outputs": [],
   "source": []
  }
 ],
 "metadata": {
  "kernelspec": {
   "display_name": "MachineLearningProject",
   "language": "python",
   "name": "python3"
  },
  "language_info": {
   "codemirror_mode": {
    "name": "ipython",
    "version": 3
   },
   "file_extension": ".py",
   "mimetype": "text/x-python",
   "name": "python",
   "nbconvert_exporter": "python",
   "pygments_lexer": "ipython3",
   "version": "3.10.10"
  },
  "orig_nbformat": 4,
  "vscode": {
   "interpreter": {
    "hash": "833909413817d786a11e3b0ba15b83ecb2993ac5c3eeb0d6df8d00f591042ca4"
   }
  }
 },
 "nbformat": 4,
 "nbformat_minor": 2
}
